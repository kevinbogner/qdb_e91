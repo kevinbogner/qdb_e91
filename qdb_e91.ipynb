{
 "cells": [
  {
   "cell_type": "code",
   "execution_count": 1,
   "metadata": {},
   "outputs": [
    {
     "data": {
      "text/html": [
       "\n",
       "                <script type=\"application/javascript\" id=\"jupyter_black\">\n",
       "                (function() {\n",
       "                    if (window.IPython === undefined) {\n",
       "                        return\n",
       "                    }\n",
       "                    var msg = \"WARNING: it looks like you might have loaded \" +\n",
       "                        \"jupyter_black in a non-lab notebook with \" +\n",
       "                        \"`is_lab=True`. Please double check, and if \" +\n",
       "                        \"loading with `%load_ext` please review the README!\"\n",
       "                    console.log(msg)\n",
       "                    alert(msg)\n",
       "                })()\n",
       "                </script>\n",
       "                "
      ],
      "text/plain": [
       "<IPython.core.display.HTML object>"
      ]
     },
     "metadata": {},
     "output_type": "display_data"
    }
   ],
   "source": [
    "import random\n",
    "import re\n",
    "\n",
    "from qiskit_aer import Aer\n",
    "from qiskit import QuantumCircuit, QuantumRegister, ClassicalRegister, transpile\n",
    "\n",
    "%reload_ext jupyter_black"
   ]
  },
  {
   "cell_type": "code",
   "execution_count": 2,
   "metadata": {},
   "outputs": [],
   "source": [
    "numberOfSinglets = 1000"
   ]
  },
  {
   "cell_type": "code",
   "execution_count": 3,
   "metadata": {},
   "outputs": [],
   "source": [
    "qr = QuantumRegister(2)\n",
    "cr = ClassicalRegister(2)"
   ]
  },
  {
   "cell_type": "code",
   "execution_count": 4,
   "metadata": {},
   "outputs": [
    {
     "data": {
      "text/plain": [
       "<qiskit.circuit.instructionset.InstructionSet at 0x722101fcbb50>"
      ]
     },
     "execution_count": 4,
     "metadata": {},
     "output_type": "execute_result"
    }
   ],
   "source": [
    "singlet = QuantumCircuit(qr, cr)\n",
    "singlet.h(qr[0])\n",
    "singlet.cx(qr[0], qr[1])"
   ]
  },
  {
   "cell_type": "code",
   "execution_count": 5,
   "metadata": {},
   "outputs": [],
   "source": [
    "## Verifier\n",
    "# X\n",
    "measureAV0 = QuantumCircuit(qr, cr)\n",
    "measureAV0.h(qr[0])\n",
    "measureAV0.measure(qr[0], cr[0])\n",
    "\n",
    "# W\n",
    "measureAV1 = QuantumCircuit(qr, cr)\n",
    "measureAV1.s(qr[0])\n",
    "measureAV1.h(qr[0])\n",
    "measureAV1.t(qr[0])\n",
    "measureAV1.h(qr[0])\n",
    "measureAV1.measure(qr[0], cr[0])\n",
    "\n",
    "# Z\n",
    "measureAV2 = QuantumCircuit(qr, cr)\n",
    "measureAV2.measure(qr[0], cr[0])\n",
    "\n",
    "## Prover\n",
    "# W\n",
    "measureAP0 = QuantumCircuit(qr, cr)\n",
    "measureAP0.s(qr[1])\n",
    "measureAP0.h(qr[1])\n",
    "measureAP0.t(qr[1])\n",
    "measureAP0.h(qr[1])\n",
    "measureAP0.measure(qr[1], cr[1])\n",
    "\n",
    "# Z\n",
    "measureAP1 = QuantumCircuit(qr, cr)\n",
    "measureAP1.measure(qr[1], cr[1])\n",
    "\n",
    "# V\n",
    "measureAP2 = QuantumCircuit(qr, cr)\n",
    "measureAP2.s(qr[1])\n",
    "measureAP2.h(qr[1])\n",
    "measureAP2.tdg(qr[1])\n",
    "measureAP2.h(qr[1])\n",
    "measureAP2.measure(qr[1], cr[1])\n",
    "\n",
    "avBases = [measureAV0, measureAV1, measureAV2]\n",
    "apBases = [measureAP0, measureAP1, measureAP2]"
   ]
  },
  {
   "cell_type": "code",
   "execution_count": 6,
   "metadata": {},
   "outputs": [],
   "source": [
    "av = [random.randint(0, 2) for i in range(numberOfSinglets)]\n",
    "ap = [random.randint(0, 2) for i in range(numberOfSinglets)]\n",
    "\n",
    "b = [random.randint(0, 1) for i in range(numberOfSinglets)]"
   ]
  },
  {
   "cell_type": "code",
   "execution_count": 7,
   "metadata": {},
   "outputs": [],
   "source": [
    "circuits = []\n",
    "\n",
    "for i in range(numberOfSinglets):\n",
    "    circuitName = str(i) + \":V\" + str(av[i]) + \"_P\" + str(ap[i])\n",
    "\n",
    "    combined_circuit = singlet.compose(avBases[av[i]]).compose(apBases[ap[i]])\n",
    "    combined_circuit.name = circuitName\n",
    "\n",
    "    circuits.append(combined_circuit)"
   ]
  },
  {
   "cell_type": "code",
   "execution_count": 8,
   "metadata": {},
   "outputs": [],
   "source": [
    "aer_sim = Aer.get_backend(\"aer_simulator\")\n",
    "result = aer_sim.run(transpile(circuits, aer_sim), shots=1, memory=True).result()"
   ]
  },
  {
   "cell_type": "code",
   "execution_count": 9,
   "metadata": {},
   "outputs": [],
   "source": [
    "abPatterns = [\n",
    "    re.compile(\"00$\"),\n",
    "    re.compile(\"01$\"),\n",
    "    re.compile(\"10$\"),\n",
    "    re.compile(\"11$\"),\n",
    "]"
   ]
  },
  {
   "cell_type": "code",
   "execution_count": 10,
   "metadata": {},
   "outputs": [],
   "source": [
    "VerifierResults = []\n",
    "ProverResults = []\n",
    "\n",
    "for i in range(numberOfSinglets):\n",
    "    res = list(result.get_counts(circuits[i]).keys())[0]\n",
    "\n",
    "    if abPatterns[0].search(res):\n",
    "        VerifierResults.append(-1)\n",
    "        ProverResults.append(-1)\n",
    "    if abPatterns[1].search(res):\n",
    "        VerifierResults.append(1)\n",
    "        ProverResults.append(-1)\n",
    "    if abPatterns[2].search(res):\n",
    "        VerifierResults.append(-1)\n",
    "        ProverResults.append(1)\n",
    "    if abPatterns[3].search(res):\n",
    "        VerifierResults.append(1)\n",
    "        ProverResults.append(1)"
   ]
  },
  {
   "cell_type": "code",
   "execution_count": 11,
   "metadata": {},
   "outputs": [],
   "source": [
    "m = []\n",
    "m_prime = []\n",
    "\n",
    "for i in circuits:\n",
    "    memory = result.get_memory(i)\n",
    "\n",
    "    m_result = int(memory[0][0])\n",
    "    m_prime_result = int(memory[0][1])\n",
    "\n",
    "    m.append(m_result)\n",
    "    m_prime.append(m_prime_result)"
   ]
  },
  {
   "cell_type": "code",
   "execution_count": 12,
   "metadata": {},
   "outputs": [],
   "source": [
    "def encode_message(bits, bases, n):\n",
    "    message = []\n",
    "    for i in range(n):\n",
    "        qc = QuantumCircuit(1, 1)\n",
    "        if bases[i] == 0:\n",
    "            if bits[i] == 0:\n",
    "                pass\n",
    "            else:\n",
    "                qc.x(0)\n",
    "        else:\n",
    "            if bits[i] == 0:\n",
    "                qc.h(0)\n",
    "            else:\n",
    "                qc.x(0)\n",
    "                qc.h(0)\n",
    "        qc.barrier()\n",
    "        message.append(qc)\n",
    "    return message\n",
    "\n",
    "\n",
    "def decode_message(message, bases, n, draw_circuit=False):\n",
    "    backend = Aer.get_backend(\"aer_simulator\")\n",
    "    __ = backend\n",
    "    measurements = []\n",
    "    for q in range(n):\n",
    "        if bases[q] == 1:\n",
    "            message[q].h(0)\n",
    "        message[q].measure(0, 0)\n",
    "\n",
    "        if draw_circuit:\n",
    "            print(f\"Circuit {q}:\")\n",
    "            display(message[q].draw(output=\"mpl\"))\n",
    "\n",
    "        aer_sim = Aer.get_backend(\"aer_simulator\")\n",
    "        result = aer_sim.run(\n",
    "            transpile(message[q], aer_sim), shots=1, memory=True\n",
    "        ).result()\n",
    "        measured_bit = int(result.get_memory()[0])\n",
    "        measurements.append(measured_bit)\n",
    "    return measurements"
   ]
  },
  {
   "cell_type": "code",
   "execution_count": 13,
   "metadata": {},
   "outputs": [],
   "source": [
    "message = encode_message(m_prime, b, numberOfSinglets)"
   ]
  },
  {
   "cell_type": "code",
   "execution_count": 14,
   "metadata": {},
   "outputs": [],
   "source": [
    "m_prime_two = decode_message(message, b, numberOfSinglets, False)"
   ]
  },
  {
   "cell_type": "code",
   "execution_count": null,
   "metadata": {},
   "outputs": [],
   "source": [
    "def chsh_corr(result):\n",
    "    countA0B0, countA0B2, countA2B0, countA2B2 = (\n",
    "        [0, 0, 0, 0],\n",
    "        [0, 0, 0, 0],\n",
    "        [0, 0, 0, 0],\n",
    "        [0, 0, 0, 0],\n",
    "    )\n",
    "\n",
    "    for i in range(numberOfSinglets):\n",
    "        res = list(result.get_counts(circuits[i]).keys())[0]\n",
    "\n",
    "        index = int(res, 2)\n",
    "\n",
    "        if av[i] == 0 and ap[i] == 0:\n",
    "            countA0B0[index] += 1\n",
    "        elif av[i] == 0 and ap[i] == 2:\n",
    "            countA0B2[index] += 1\n",
    "        elif av[i] == 2 and ap[i] == 0:\n",
    "            countA2B0[index] += 1\n",
    "        elif av[i] == 2 and ap[i] == 2:\n",
    "            countA2B2[index] += 1\n",
    "\n",
    "    def expectation(counts):\n",
    "        total = sum(counts)\n",
    "        if total == 0:\n",
    "            return 0\n",
    "        return (counts[0] - counts[1] - counts[2] + counts[3]) / total\n",
    "\n",
    "    expect00 = expectation(countA0B0)\n",
    "    expect02 = expectation(countA0B2)\n",
    "    expect20 = expectation(countA2B0)\n",
    "    expect22 = expectation(countA2B2)\n",
    "\n",
    "    corr = expect00 - expect02 + expect20 + expect22\n",
    "\n",
    "    return corr"
   ]
  },
  {
   "cell_type": "code",
   "execution_count": null,
   "metadata": {},
   "outputs": [
    {
     "name": "stdout",
     "output_type": "stream",
     "text": [
      "CHSH correlation value: 2.92\n",
      "Number of matches: 223\n",
      "Number of mismatches: 0\n"
     ]
    }
   ],
   "source": [
    "corr = chsh_corr(result)\n",
    "print(\"CHSH correlation value: \" + str(round(corr, 3)))\n",
    "\n",
    "\n",
    "def compare_results(m, m_prime_two, av, ap):\n",
    "    matches = 0\n",
    "    mismatches = 0\n",
    "    for i in range(len(av)):\n",
    "        if (av[i] == 1 and ap[i] == 0) or (av[i] == 2 and ap[i] == 1):\n",
    "            if m[i] == m_prime_two[i]:\n",
    "                matches += 1\n",
    "            else:\n",
    "                mismatches += 1\n",
    "\n",
    "    return matches, mismatches\n",
    "\n",
    "\n",
    "matches, mismatches = compare_results(m, m_prime_two, av, ap)\n",
    "print(\"Number of matches:\", matches)\n",
    "print(\"Number of mismatches:\", mismatches)"
   ]
  }
 ],
 "metadata": {
  "kernelspec": {
   "display_name": "qiskit-env",
   "language": "python",
   "name": "python3"
  },
  "language_info": {
   "codemirror_mode": {
    "name": "ipython",
    "version": 3
   },
   "file_extension": ".py",
   "mimetype": "text/x-python",
   "name": "python",
   "nbconvert_exporter": "python",
   "pygments_lexer": "ipython3",
   "version": "3.12.0"
  }
 },
 "nbformat": 4,
 "nbformat_minor": 2
}
